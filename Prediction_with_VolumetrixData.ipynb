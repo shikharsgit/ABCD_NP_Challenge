{
 "cells": [
  {
   "cell_type": "code",
   "execution_count": 34,
   "metadata": {},
   "outputs": [],
   "source": [
    "import numpy as np\n",
    "import pandas as pd\n",
    "from sklearn.svm import SVR\n",
    "from sklearn.ensemble import RandomForestRegressor\n",
    "from sklearn.preprocessing import MinMaxScaler\n",
    "from sklearn.model_selection import GridSearchCV\n",
    "from sklearn.metrics.scorer import make_scorer\n",
    "from sklearn.metrics import mean_squared_error\n",
    "%matplotlib inline\n",
    "import matplotlib.pyplot as plt\n",
    "import seaborn as sns\n",
    "import random"
   ]
  },
  {
   "cell_type": "code",
   "execution_count": 2,
   "metadata": {},
   "outputs": [],
   "source": [
    "data_dir = '/analysis/shikhar/abcd_npc/img_dt/'\n",
    "data_loc = 'all_volumetrix_processed.csv'"
   ]
  },
  {
   "cell_type": "code",
   "execution_count": 17,
   "metadata": {},
   "outputs": [],
   "source": [
    "# trainVal_y = pd.read_csv(data_dir+data_y_loc, index_col=False)\n",
    "all_x = pd.read_csv(data_dir+data_loc, index_col=False)\n",
    "# all_xy = \n",
    "\n",
    "train_y = all_x[all_x['sample']=='train']['residual_fluid_intelligence_score'].values\n",
    "train_x= all_x[all_x['sample']=='train']\n",
    "\n",
    "val_internal_x= all_x[all_x['sample']=='val_internal']\n",
    "val_internal_y = all_x[all_x['sample']=='val_internal']['residual_fluid_intelligence_score'].values\n",
    "\n",
    "val_x= all_x[all_x['sample']=='val']\n",
    "val_y = all_x[all_x['sample']=='val']['residual_fluid_intelligence_score'].values\n",
    "cols_asIDV = train_x.columns.difference(['SUBJECTKEY','STUDY_COHORT_NAME','sample','residual_fluid_intelligence_score'])"
   ]
  },
  {
   "cell_type": "code",
   "execution_count": 18,
   "metadata": {},
   "outputs": [],
   "source": [
    "## setting up MSE as Loss function\n",
    "\n",
    "mse_loss = make_scorer(mean_squared_error,greater_is_better=False)"
   ]
  },
  {
   "cell_type": "markdown",
   "metadata": {},
   "source": [
    "# Building models\n",
    "---\n",
    "##  1. SVR - 1st attempt"
   ]
  },
  {
   "cell_type": "code",
   "execution_count": 19,
   "metadata": {},
   "outputs": [
    {
     "name": "stdout",
     "output_type": "stream",
     "text": [
      "GridSearchCV(cv=3, error_score='raise-deprecating',\n",
      "       estimator=SVR(C=1.0, cache_size=200, coef0=0.0, degree=3, epsilon=0.1,\n",
      "  gamma='auto_deprecated', kernel='rbf', max_iter=-1, shrinking=True,\n",
      "  tol=0.001, verbose=False),\n",
      "       fit_params=None, iid='warn', n_jobs=10,\n",
      "       param_grid={'kernel': ('linear', 'rbf'), 'gamma': ('auto', 'scale'), 'C': [0.1, 1, 10], 'epsilon': [0.01, 0.1, 1]},\n",
      "       pre_dispatch='2*n_jobs', refit=True, return_train_score='warn',\n",
      "       scoring=make_scorer(mean_squared_error, greater_is_better=False),\n",
      "       verbose=0)\n",
      "\n",
      "\n",
      " ################ Output on best model ############### \n",
      "\n",
      "Best cv MSE:  85.61746236560562\n",
      "Best cv Model:  SVR(C=1, cache_size=200, coef0=0.0, degree=3, epsilon=1, gamma='auto',\n",
      "  kernel='rbf', max_iter=-1, shrinking=True, tol=0.001, verbose=False) \n",
      "\n",
      "val_internal MSE:  83.42297160635904\n",
      "val MSE:  72.19715689904486\n"
     ]
    }
   ],
   "source": [
    "## Defining parameters for grid search\n",
    "parameters = {'kernel':('linear', 'rbf'), 'gamma':('auto','scale'), 'C':[0.1,1, 10],'epsilon':[0.01,0.1,1]}\n",
    "#parameters = {'kernel':('linear', 'rbf'), 'C':[1]}\n",
    "svr = SVR()\n",
    "reg_svr = GridSearchCV(svr, parameters, cv=3,scoring = mse_loss,n_jobs=10)\n",
    "print(reg_svr.fit(train_x[cols_asIDV], train_y))\n",
    "print(\"\\n\\n ################ Output on best model ############### \\n\")\n",
    "print(\"Best cv MSE: \",(-1*reg_svr.best_score_))\n",
    "print(\"Best cv Model: \",(reg_svr.best_estimator_),\"\\n\")\n",
    "print(\"val_internal MSE: \",mean_squared_error(reg_svr.predict(val_internal_x[cols_asIDV]),val_internal_y))  \n",
    "print(\"val MSE: \",mean_squared_error(reg_svr.predict(val_x[cols_asIDV]),val_y)) "
   ]
  },
  {
   "cell_type": "markdown",
   "metadata": {},
   "source": [
    "---\n",
    "##  1. SVR - 2nd attempt"
   ]
  },
  {
   "cell_type": "code",
   "execution_count": 21,
   "metadata": {},
   "outputs": [
    {
     "name": "stdout",
     "output_type": "stream",
     "text": [
      "\n",
      "\n",
      " ################ Output on best model ############### \n",
      "\n",
      "Best cv MSE:  85.43849815995871\n",
      "Best cv Model:  SVR(C=1, cache_size=200, coef0=0.0, degree=3, epsilon=10, gamma='scale',\n",
      "  kernel='rbf', max_iter=-1, shrinking=True, tol=0.001, verbose=False) \n",
      "\n",
      "val_internal MSE:  83.05155497355766\n",
      "val MSE:  71.54807214572764\n"
     ]
    }
   ],
   "source": [
    "parameters = {'kernel':('linear', 'rbf'), 'gamma':('auto','scale'), 'C':[0.5,1,2,5,10],\\\n",
    "              'epsilon':[0.5,1,2,5,10]}\n",
    "svr = SVR()\n",
    "reg_svr1 = GridSearchCV(svr, parameters, cv=3,scoring = mse_loss,n_jobs=10)\n",
    "reg_svr1.fit(train_x[cols_asIDV], train_y)\n",
    "print(\"\\n\\n ################ Output on best model ############### \\n\")\n",
    "print(\"Best cv MSE: \",(-1*reg_svr1.best_score_))\n",
    "print(\"Best cv Model: \",(reg_svr1.best_estimator_),\"\\n\")\n",
    "print(\"val_internal MSE: \",mean_squared_error(reg_svr1.predict(val_internal_x[cols_asIDV]),val_internal_y))  \n",
    "print(\"val MSE: \",mean_squared_error(reg_svr1.predict(val_x[cols_asIDV]),val_y)) "
   ]
  },
  {
   "cell_type": "markdown",
   "metadata": {},
   "source": [
    "---\n",
    "##  1. SVR - 3rd attempt"
   ]
  },
  {
   "cell_type": "code",
   "execution_count": 22,
   "metadata": {},
   "outputs": [
    {
     "name": "stdout",
     "output_type": "stream",
     "text": [
      "\n",
      "\n",
      " ################ Output on best model ############### \n",
      "\n",
      "Best cv MSE:  85.43849815995871\n",
      "Best cv Model:  SVR(C=1, cache_size=200, coef0=0.0, degree=3, epsilon=10, gamma='scale',\n",
      "  kernel='rbf', max_iter=-1, shrinking=True, tol=0.001, verbose=False) \n",
      "\n",
      "val_internal MSE:  83.05155497355766\n",
      "val MSE:  71.54807214572764\n"
     ]
    }
   ],
   "source": [
    "parameters = {'kernel':('linear', 'rbf'), 'gamma':('auto','scale'), 'C':[0.5,1,2],'epsilon':[8,10,15,20]}\n",
    "svr = SVR()\n",
    "reg_svr2 = GridSearchCV(svr, parameters, cv=3,scoring = mse_loss,n_jobs=10)\n",
    "reg_svr2.fit(train_x[cols_asIDV], train_y)\n",
    "print(\"\\n\\n ################ Output on best model ############### \\n\")\n",
    "print(\"Best cv MSE: \",(-1*reg_svr2.best_score_))\n",
    "print(\"Best cv Model: \",(reg_svr2.best_estimator_),\"\\n\")\n",
    "print(\"val_internal MSE: \",mean_squared_error(reg_svr2.predict(val_internal_x[cols_asIDV]),val_internal_y))  \n",
    "print(\"val MSE: \",mean_squared_error(reg_svr2.predict(val_x[cols_asIDV]),val_y)) "
   ]
  },
  {
   "cell_type": "code",
   "execution_count": 23,
   "metadata": {},
   "outputs": [],
   "source": [
    "# saving svr best model\n",
    "reg_svr_best = reg_svr2"
   ]
  },
  {
   "cell_type": "markdown",
   "metadata": {},
   "source": [
    "---\n",
    "## 2. RF - 1st attempt"
   ]
  },
  {
   "cell_type": "code",
   "execution_count": 24,
   "metadata": {},
   "outputs": [
    {
     "name": "stdout",
     "output_type": "stream",
     "text": [
      "\n",
      "\n",
      " ################ Output on best model ############### \n",
      "\n",
      "Best cv MSE:  85.18357014508894\n",
      "Best cv Model:  RandomForestRegressor(bootstrap=True, criterion='mse', max_depth=5,\n",
      "           max_features='sqrt', max_leaf_nodes=None,\n",
      "           min_impurity_decrease=0.0, min_impurity_split=None,\n",
      "           min_samples_leaf=1, min_samples_split=50,\n",
      "           min_weight_fraction_leaf=0.0, n_estimators=100, n_jobs=2,\n",
      "           oob_score=False, random_state=243, verbose=0, warm_start=False) \n",
      "\n",
      "val_internal MSE:  83.65451573810371\n",
      "val MSE:  71.3494286362827\n"
     ]
    }
   ],
   "source": [
    "parameters = {'max_depth':[2,4,5], 'min_samples_split':(500,100,50), 'n_estimators':(50,100,500),\\\n",
    "              'max_features':('auto','sqrt','log2')}\n",
    "\n",
    "rf = RandomForestRegressor(random_state=243,n_jobs=2)\n",
    "reg_rf = GridSearchCV(rf, parameters, cv=3,scoring = mse_loss,n_jobs=10)\n",
    "reg_rf.fit(train_x[cols_asIDV], train_y)\n",
    "print(\"\\n\\n ################ Output on best model ############### \\n\")\n",
    "print(\"Best cv MSE: \",(-1*reg_rf.best_score_))\n",
    "print(\"Best cv Model: \",(reg_rf.best_estimator_),\"\\n\")\n",
    "print(\"val_internal MSE: \",mean_squared_error(reg_rf.predict(val_internal_x[cols_asIDV]),val_internal_y))  \n",
    "print(\"val MSE: \",mean_squared_error(reg_rf.predict(val_x[cols_asIDV]),val_y)) "
   ]
  },
  {
   "cell_type": "markdown",
   "metadata": {},
   "source": [
    "## 2. RF - 2nd attempt"
   ]
  },
  {
   "cell_type": "code",
   "execution_count": 25,
   "metadata": {},
   "outputs": [
    {
     "name": "stdout",
     "output_type": "stream",
     "text": [
      "\n",
      "\n",
      " ################ Output on best model ############### \n",
      "\n",
      "Best cv MSE:  85.23054425456871\n",
      "Best cv Model:  RandomForestRegressor(bootstrap=True, criterion='mse', max_depth=2,\n",
      "           max_features='auto', max_leaf_nodes=None,\n",
      "           min_impurity_decrease=0.0, min_impurity_split=None,\n",
      "           min_samples_leaf=1, min_samples_split=80,\n",
      "           min_weight_fraction_leaf=0.0, n_estimators=30, n_jobs=2,\n",
      "           oob_score=False, random_state=243, verbose=0, warm_start=False) \n",
      "\n",
      "val_internal MSE:  86.0500038354376\n",
      "val MSE:  71.51153988610088\n"
     ]
    }
   ],
   "source": [
    "parameters = {'max_depth':[1,2,3], 'min_samples_split':(80,50,30), 'n_estimators':(30,50,100,150),\\\n",
    "              'max_features':('auto','sqrt','log2')}\n",
    "\n",
    "rf = RandomForestRegressor(random_state=243,n_jobs=2)\n",
    "reg_rf1 = GridSearchCV(rf, parameters, cv=3,scoring = mse_loss,n_jobs=10)\n",
    "reg_rf1.fit(train_x[cols_asIDV], train_y)\n",
    "print(\"\\n\\n ################ Output on best model ############### \\n\")\n",
    "print(\"Best cv MSE: \",(-1*reg_rf1.best_score_))\n",
    "print(\"Best cv Model: \",(reg_rf1.best_estimator_),\"\\n\")\n",
    "print(\"val_internal MSE: \",mean_squared_error(reg_rf1.predict(val_internal_x[cols_asIDV]),val_internal_y))  \n",
    "print(\"val MSE: \",mean_squared_error(reg_rf1.predict(val_x[cols_asIDV]),val_y)) "
   ]
  },
  {
   "cell_type": "markdown",
   "metadata": {},
   "source": [
    "## 2. RF - 3rd attempt"
   ]
  },
  {
   "cell_type": "code",
   "execution_count": 26,
   "metadata": {},
   "outputs": [
    {
     "name": "stdout",
     "output_type": "stream",
     "text": [
      "\n",
      "\n",
      " ################ Output on best model ############### \n",
      "\n",
      "Best cv MSE:  85.36621009666739\n",
      "Best cv Model:  RandomForestRegressor(bootstrap=True, criterion='mse', max_depth=2,\n",
      "           max_features='sqrt', max_leaf_nodes=None,\n",
      "           min_impurity_decrease=0.0, min_impurity_split=None,\n",
      "           min_samples_leaf=1, min_samples_split=80,\n",
      "           min_weight_fraction_leaf=0.0, n_estimators=40, n_jobs=2,\n",
      "           oob_score=False, random_state=243, verbose=0, warm_start=False) \n",
      "\n",
      "val_internal MSE:  84.31022324867887\n",
      "val MSE:  71.76886474309214\n"
     ]
    }
   ],
   "source": [
    "parameters = { 'min_samples_split':(80,50,30), 'n_estimators':(10,20,30,40)}\n",
    "\n",
    "rf = RandomForestRegressor(max_depth=2,max_features='sqrt',random_state=243,n_jobs=2)\n",
    "reg_rf2 = GridSearchCV(rf, parameters, cv=3,scoring = mse_loss,n_jobs=10)\n",
    "reg_rf2.fit(train_x[cols_asIDV], train_y)\n",
    "print(\"\\n\\n ################ Output on best model ############### \\n\")\n",
    "print(\"Best cv MSE: \",(-1*reg_rf2.best_score_))\n",
    "print(\"Best cv Model: \",(reg_rf2.best_estimator_),\"\\n\")\n",
    "print(\"val_internal MSE: \",mean_squared_error(reg_rf2.predict(val_internal_x[cols_asIDV]),val_internal_y))  \n",
    "print(\"val MSE: \",mean_squared_error(reg_rf2.predict(val_x[cols_asIDV]),val_y)) "
   ]
  },
  {
   "cell_type": "code",
   "execution_count": 28,
   "metadata": {},
   "outputs": [],
   "source": [
    "# saving svr best model\n",
    "reg_rf_best = reg_rf"
   ]
  },
  {
   "cell_type": "markdown",
   "metadata": {},
   "source": [
    "---\n",
    "### Error Analysis on the hold out data (to be used for ensemble)"
   ]
  },
  {
   "cell_type": "code",
   "execution_count": 29,
   "metadata": {},
   "outputs": [],
   "source": [
    "all_x['score_predicted_svr'] = reg_svr2.predict(all_x[cols_asIDV])\n",
    "all_x['score_predicted_rf'] = reg_rf.predict(all_x[cols_asIDV])"
   ]
  },
  {
   "cell_type": "code",
   "execution_count": 32,
   "metadata": {},
   "outputs": [],
   "source": [
    "all_x['squaredError_svr'] =  all_x.apply(lambda row: (row.score_predicted_svr - row.residual_fluid_intelligence_score)**2, axis=1)\n",
    "all_x['squaredError_rf'] =  all_x.apply(lambda row: (row.score_predicted_rf - row.residual_fluid_intelligence_score)**2, axis=1)"
   ]
  },
  {
   "cell_type": "code",
   "execution_count": 53,
   "metadata": {
    "scrolled": false
   },
   "outputs": [
    {
     "data": {
      "image/png": "[encoded data removed]",
      "text/plain": [
       "<Figure size 842.4x595.44 with 2 Axes>"
      ]
     },
     "metadata": {},
     "output_type": "display_data"
    }
   ],
   "source": [
    "#On Age and sex\n",
    "all_x['age_bin']=pd.qcut(all_x['INTERVIEW_AGE'], 5, labels=list(range(0,5)))\n",
    "\n",
    "sns.set(rc={'figure.figsize':(11.7,8.27)})\n",
    "fig, ax =plt.subplots(1,2)\n",
    "sns.boxplot(x=\"age_bin\", y=\"squaredError_svr\", hue=\"sex_bin\", data=all_x, palette=\"Set1\", ax=ax[0])\n",
    "sns.boxplot(x=\"age_bin\", y=\"squaredError_rf\", hue=\"sex_bin\", data=all_x, palette=\"Set1\", ax=ax[1])\n",
    "fig.show()\n",
    "\n",
    "# # sns.boxplot(x=\"age_bin\", y=\"squaredError_svr\", hue=\"sex_bin\", data=all_x, palette=\"Set1\")\n",
    "\n",
    "# sns.boxplot(x=\"age_bin\", y=\"squaredError_rf\", hue=\"sex_bin\", data=all_x, palette=\"Set1\")\n",
    "\n",
    "\n",
    "# print(svr)\n",
    "# print(rf)"
   ]
  },
  {
   "cell_type": "code",
   "execution_count": 44,
   "metadata": {},
   "outputs": [
    {
     "data": {
      "text/html": [
       "<div>\n",
       "<style scoped>\n",
       "    .dataframe tbody tr th:only-of-type {\n",
       "        vertical-align: middle;\n",
       "    }\n",
       "\n",
       "    .dataframe tbody tr th {\n",
       "        vertical-align: top;\n",
       "    }\n",
       "\n",
       "    .dataframe thead th {\n",
       "        text-align: right;\n",
       "    }\n",
       "</style>\n",
       "<table border=\"1\" class=\"dataframe\">\n",
       "  <thead>\n",
       "    <tr style=\"text-align: right;\">\n",
       "      <th></th>\n",
       "      <th>INTERVIEW_AGE</th>\n",
       "      <th>SRI24AMYGDALALGM</th>\n",
       "      <th>SRI24AMYGDALARGM</th>\n",
       "      <th>SRI24ANGULARLGM</th>\n",
       "      <th>SRI24ANGULARRGM</th>\n",
       "      <th>SRI24CALCARINELGM</th>\n",
       "      <th>SRI24CALCARINERGM</th>\n",
       "      <th>SRI24CAUDATELGM</th>\n",
       "      <th>SRI24CAUDATERGM</th>\n",
       "      <th>SRI24CBLMHEMIWHTLWM</th>\n",
       "      <th>...</th>\n",
       "      <th>SRI24WM400WM400LWM</th>\n",
       "      <th>STUDY_COHORT_NAME</th>\n",
       "      <th>SUBJECTKEY</th>\n",
       "      <th>sex_bin</th>\n",
       "      <th>residual_fluid_intelligence_score</th>\n",
       "      <th>sample</th>\n",
       "      <th>score_predicted_svr</th>\n",
       "      <th>score_predicted_rf</th>\n",
       "      <th>squaredError_svr</th>\n",
       "      <th>squaredError_rf</th>\n",
       "    </tr>\n",
       "  </thead>\n",
       "  <tbody>\n",
       "    <tr>\n",
       "      <th>335</th>\n",
       "      <td>0.500000</td>\n",
       "      <td>0.410613</td>\n",
       "      <td>0.428565</td>\n",
       "      <td>0.5488</td>\n",
       "      <td>0.503562</td>\n",
       "      <td>0.266351</td>\n",
       "      <td>0.376502</td>\n",
       "      <td>0.408154</td>\n",
       "      <td>0.402718</td>\n",
       "      <td>0.526012</td>\n",
       "      <td>...</td>\n",
       "      <td>0.463292</td>\n",
       "      <td>ABCD NP Challenge 2019 Training Set</td>\n",
       "      <td>NDAR_INV86X5Z1TX</td>\n",
       "      <td>0.0</td>\n",
       "      <td>-33.488807</td>\n",
       "      <td>val_forEnsemble</td>\n",
       "      <td>0.890121</td>\n",
       "      <td>0.607267</td>\n",
       "      <td>1181.910703</td>\n",
       "      <td>1162.542313</td>\n",
       "    </tr>\n",
       "    <tr>\n",
       "      <th>885</th>\n",
       "      <td>0.961538</td>\n",
       "      <td>0.533737</td>\n",
       "      <td>0.587006</td>\n",
       "      <td>0.3300</td>\n",
       "      <td>0.231435</td>\n",
       "      <td>0.377360</td>\n",
       "      <td>0.405787</td>\n",
       "      <td>0.383917</td>\n",
       "      <td>0.400832</td>\n",
       "      <td>0.488209</td>\n",
       "      <td>...</td>\n",
       "      <td>0.275688</td>\n",
       "      <td>ABCD NP Challenge 2019 Training Set</td>\n",
       "      <td>NDAR_INV019DXLU4</td>\n",
       "      <td>1.0</td>\n",
       "      <td>-33.168270</td>\n",
       "      <td>val_forEnsemble</td>\n",
       "      <td>0.261310</td>\n",
       "      <td>0.062560</td>\n",
       "      <td>1117.536866</td>\n",
       "      <td>1104.288108</td>\n",
       "    </tr>\n",
       "  </tbody>\n",
       "</table>\n",
       "<p>2 rows × 129 columns</p>\n",
       "</div>"
      ],
      "text/plain": [
       "     INTERVIEW_AGE  SRI24AMYGDALALGM  SRI24AMYGDALARGM  SRI24ANGULARLGM  \\\n",
       "335       0.500000          0.410613          0.428565           0.5488   \n",
       "885       0.961538          0.533737          0.587006           0.3300   \n",
       "\n",
       "     SRI24ANGULARRGM  SRI24CALCARINELGM  SRI24CALCARINERGM  SRI24CAUDATELGM  \\\n",
       "335         0.503562           0.266351           0.376502         0.408154   \n",
       "885         0.231435           0.377360           0.405787         0.383917   \n",
       "\n",
       "     SRI24CAUDATERGM  SRI24CBLMHEMIWHTLWM       ...         \\\n",
       "335         0.402718             0.526012       ...          \n",
       "885         0.400832             0.488209       ...          \n",
       "\n",
       "     SRI24WM400WM400LWM                    STUDY_COHORT_NAME  \\\n",
       "335            0.463292  ABCD NP Challenge 2019 Training Set   \n",
       "885            0.275688  ABCD NP Challenge 2019 Training Set   \n",
       "\n",
       "           SUBJECTKEY  sex_bin  residual_fluid_intelligence_score  \\\n",
       "335  NDAR_INV86X5Z1TX      0.0                         -33.488807   \n",
       "885  NDAR_INV019DXLU4      1.0                         -33.168270   \n",
       "\n",
       "              sample  score_predicted_svr  score_predicted_rf  \\\n",
       "335  val_forEnsemble             0.890121            0.607267   \n",
       "885  val_forEnsemble             0.261310            0.062560   \n",
       "\n",
       "     squaredError_svr  squaredError_rf  \n",
       "335       1181.910703      1162.542313  \n",
       "885       1117.536866      1104.288108  \n",
       "\n",
       "[2 rows x 129 columns]"
      ]
     },
     "execution_count": 44,
     "metadata": {},
     "output_type": "execute_result"
    }
   ],
   "source": [
    "all_x[all_x['squaredError_rf']>1000]z"
   ]
  }
 ],
 "metadata": {
  "kernelspec": {
   "display_name": "Python 3",
   "language": "python",
   "name": "python3"
  },
  "language_info": {
   "codemirror_mode": {
    "name": "ipython",
    "version": 3
   },
   "file_extension": ".py",
   "mimetype": "text/x-python",
   "name": "python",
   "nbconvert_exporter": "python",
   "pygments_lexer": "ipython3",
   "version": "3.6.6"
  }
 },
 "nbformat": 4,
 "nbformat_minor": 2
}
